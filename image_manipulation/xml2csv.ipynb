{
 "metadata": {
  "language_info": {
   "codemirror_mode": {
    "name": "ipython",
    "version": 3
   },
   "file_extension": ".py",
   "mimetype": "text/x-python",
   "name": "python",
   "nbconvert_exporter": "python",
   "pygments_lexer": "ipython3",
   "version": "3.7.7"
  },
  "orig_nbformat": 2,
  "kernelspec": {
   "name": "env_playground",
   "display_name": "env_playground",
   "language": "python"
  }
 },
 "nbformat": 4,
 "nbformat_minor": 2,
 "cells": [
  {
   "cell_type": "code",
   "execution_count": 10,
   "metadata": {},
   "outputs": [],
   "source": [
    "import os\n",
    "import pandas as pd\n",
    "import shutil\n",
    "import xml.etree.ElementTree as ET"
   ]
  },
  {
   "cell_type": "code",
   "execution_count": 2,
   "metadata": {},
   "outputs": [],
   "source": [
    "# source and credits:\n",
    "# https://raw.githubusercontent.com/datitran/raccoon_dataset/master/xml_to_csv.py\n",
    "\n",
    "def xmlToCsv(xml_file_path, column_name = []):\n",
    "    tree = ET.parse(xml_file_path)\n",
    "    root = tree.getroot()\n",
    "    for member in root.findall('object'):\n",
    "        value = (\n",
    "            root.find('filename').text,\n",
    "            int(root.find('size')[0].text),\n",
    "            int(root.find('size')[1].text),\n",
    "            member[0].text,\n",
    "            int(member[4][0].text),\n",
    "            int(member[4][1].text),\n",
    "            int(member[4][2].text),\n",
    "            int(member[4][3].text)\n",
    "        )\n",
    "    return value"
   ]
  },
  {
   "cell_type": "code",
   "execution_count": 28,
   "metadata": {},
   "outputs": [],
   "source": [
    "BASE_PATH = os.path.join(os.getcwd(), '..', 'dataset')\n",
    "DATASET_PATH = os.path.join(BASE_PATH, 'mixed-cropped')\n",
    "IMAGES_DATASET_PATH = os.path.join(DATASET_PATH, 'orismal-320')\n",
    "TRAIN_DATASET_PATH = os.path.join(DATASET_PATH, 'train')\n",
    "TEST_DATASET_PATH = os.path.join(DATASET_PATH, 'test')\n",
    "ANNOTATION_DATASET_PATH = os.path.join(DATASET_PATH, 'orimix-320-sm-annotations')"
   ]
  },
  {
   "cell_type": "code",
   "execution_count": 29,
   "metadata": {},
   "outputs": [],
   "source": [
    "# Split dataset into training, validation, and testing with following ratio 0.8, 0, and 0.2\n",
    "# Uncomment if your data isn't in correct folder\n",
    "\n",
    "# import splitfolders\n",
    "# splitfolders.ratio(IMAGES_DATASET_PATH, output = DATASET_PATH, seed = 1092, ratio = (0.9, 0, 0.1), group_prefix = None)"
   ]
  },
  {
   "cell_type": "code",
   "execution_count": 30,
   "metadata": {},
   "outputs": [],
   "source": [
    "ANNOTATIONS_FILE = os.path.join(os.getcwd(), '..', 'dataset', 'mixed-cropped', 'orimix-320-sm-annotations')\n",
    "IMAGE_FILES = os.path.join(os.getcwd(), '..', 'dataset', 'mixed-cropped')\n",
    "TRAIN = os.path.join(IMAGE_FILES, 'train')\n",
    "TEST = os.path.join(IMAGE_FILES, 'test')"
   ]
  },
  {
   "cell_type": "code",
   "execution_count": 32,
   "metadata": {
    "tags": []
   },
   "outputs": [],
   "source": [
    "for labels in os.listdir(TRAIN):\n",
    "    label_folder = os.path.join(TRAIN, labels)\n",
    "    for images in os.listdir(label_folder):\n",
    "        shutil.move(os.path.join(label_folder, images), os.path.join(TRAIN, images))"
   ]
  },
  {
   "cell_type": "code",
   "execution_count": 34,
   "metadata": {
    "tags": []
   },
   "outputs": [
    {
     "output_type": "stream",
     "name": "stdout",
     "text": [
      "file 20210513_204333(0) does not have xml\n",
      "file 20210513_204335(0) does not have xml\n",
      "file 20210513_204547 does not have xml\n",
      "file 20210513_212720(0) does not have xml\n",
      "file 20210513_213557(0) does not have xml\n",
      "file E-c1e71968-86e1-7 does not have xml\n",
      "file IMG_0313 does not have xml\n",
      "file IMG_0672 does not have xml\n",
      "file IMG_0707 does not have xml\n",
      "file IMG_1180 does not have xml\n",
      "file K-93e52a15-642d-5 does not have xml\n",
      "file M-dbee71a4-3519-4 does not have xml\n",
      "file R-a3693552-a3a9-6 does not have xml\n",
      "file WIN_20210513_15_36_11_Pro (2) does not have xml\n",
      "file WIN_20210513_15_40_05_Pro (4) does not have xml\n",
      "file WIN_20210513_15_40_15_Pro (3) does not have xml\n",
      "file WIN_20210513_15_46_45_Pro (2) does not have xml\n",
      "file WIN_20210513_15_50_53_Pro does not have xml\n",
      "file WIN_20210513_15_57_27_Pro does not have xml\n",
      "file WIN_20210513_15_58_02_Pro (3) does not have xml\n",
      "file WIN_20210513_15_58_05_Pro (2) does not have xml\n",
      "file WIN_20210513_16_10_46_Pro does not have xml\n",
      "file WIN_20210513_16_11_12_Pro does not have xml\n",
      "file WIN_20210513_16_13_21_Pro (3) does not have xml\n",
      "file WIN_20210513_16_21_31_Pro (2) does not have xml\n",
      "file WIN_20210513_16_25_05_Pro does not have xml\n",
      "file WIN_20210513_16_30_38_Pro (3) does not have xml\n",
      "file WIN_20210513_16_32_00_Pro (3) does not have xml\n",
      "file WIN_20210513_16_32_05_Pro (2) does not have xml\n",
      "file WIN_20210513_16_37_21_Pro (2) does not have xml\n",
      "file WIN_20210513_16_37_35_Pro (3) does not have xml\n"
     ]
    }
   ],
   "source": [
    "for image in os.listdir(TRAIN):\n",
    "    label = image[0]\n",
    "    fName, fExt = os.path.splitext(image)\n",
    "    ann_path = os.path.join(ANNOTATIONS_FILE, '{}{}'.format(fName, '.xml'))\n",
    "    target_path = os.path.join(TRAIN, '{}{}'.format(fName, '.xml'))\n",
    "    if os.path.isfile(ann_path):\n",
    "        shutil.copyfile(ann_path, target_path)\n",
    "    else:\n",
    "        os.remove(os.path.join(TRAIN, image))\n",
    "        print('file {} does not have xml'.format(fName))"
   ]
  },
  {
   "cell_type": "code",
   "execution_count": 4,
   "metadata": {
    "tags": []
   },
   "outputs": [
    {
     "output_type": "stream",
     "name": "stdout",
     "text": [
      "                 filename  width  height class  xmin  ymin  xmax  ymax\n0  A-00c67a42-d13f-74.JPG    640     425     A   257   160   385   221\n1  A-02bc10f7-c8f3-19.jpg    640     426     A   113   206   335   321\n2  A-0434e24e-18dc-20.jpg    480     640     A    91   380   356   559\n3  A-04438dd5-8621-85.jpg    640     480     A   206   193   369   284\n4  A-080f0769-39da-72.JPG    640     425     A   255   145   388   216\n                 filename  width  height class  xmin  ymin  xmax  ymax\n0  A-0b08af8e-e546-23.jpg    640     480     A   202   182   396   288\n1  A-0efe49f8-3676-90.jpg    640     640     A    69   264   592   504\n2  A-299d15ac-1200-55.jpg    640     426     A   402    71   640   212\n3  A-2c1d7db2-b111-54.jpg    640     480     A   157   161   466   336\n4  A-57eb7b69-da4c-59.jpg    640     480     A   205   237   382   334\n"
     ]
    }
   ],
   "source": [
    "# Defined column names\n",
    "column_name = ['filename', 'width', 'height', 'class', 'xmin', 'ymin', 'xmax', 'ymax']\n",
    "train_arr = []\n",
    "test_arr = []\n",
    "\n",
    "# Iterate all train dataset\n",
    "for label_dirs in os.listdir(TRAIN_DATASET_PATH):\n",
    "    images_path = os.path.join(TRAIN_DATASET_PATH, label_dirs)\n",
    "    # Iterate all file in label folder\n",
    "    for image in os.listdir(images_path):\n",
    "        # Get filename\n",
    "        fName, fExt = os.path.splitext(image)\n",
    "        # Check wheter image and annotations exist\n",
    "        image_annotation_path = os.path.join(ANNOTATION_DATASET_PATH, label_dirs, '{}{}'.format(fName, '.xml'))\n",
    "        # Insert to train dataset\n",
    "        train_arr.append(xmlToCsv(image_annotation_path))\n",
    "\n",
    "# Iterate all test dataset\n",
    "for label_dirs in os.listdir(TEST_DATASET_PATH):\n",
    "    images_path = os.path.join(TEST_DATASET_PATH, label_dirs)\n",
    "    # Iterate all file in label folder\n",
    "    for image in os.listdir(images_path):\n",
    "        # Get filename\n",
    "        fName, fExt = os.path.splitext(image)\n",
    "        # Check wheter image and annotations exist\n",
    "        image_annotation_path = os.path.join(ANNOTATION_DATASET_PATH, label_dirs, '{}{}'.format(fName, '.xml'))\n",
    "        # Insert to train dataset\n",
    "        test_arr.append(xmlToCsv(image_annotation_path))\n",
    "\n",
    "# Convert array to df     \n",
    "train_df = pd.DataFrame(train_arr, columns = column_name)\n",
    "test_df = pd.DataFrame(test_arr, columns = column_name)\n",
    "\n",
    "# Check df contents\n",
    "print(train_df.head())\n",
    "print(test_df.head())"
   ]
  },
  {
   "cell_type": "code",
   "execution_count": 6,
   "metadata": {},
   "outputs": [],
   "source": [
    "# df to CSV\n",
    "# csv extenstion should be inserted or it will return [ERROR 13] Permission Denied\n",
    "\n",
    "train_df.to_csv('{}/{}{}'.format(DATASET_PATH, 'train', '.csv'), index = None)\n",
    "test_df.to_csv('{}/{}{}'.format(DATASET_PATH, 'test', '.csv'), index = None)"
   ]
  },
  {
   "cell_type": "code",
   "execution_count": null,
   "metadata": {},
   "outputs": [],
   "source": []
  }
 ]
}