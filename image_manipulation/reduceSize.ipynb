{
 "metadata": {
  "language_info": {
   "codemirror_mode": {
    "name": "ipython",
    "version": 3
   },
   "file_extension": ".py",
   "mimetype": "text/x-python",
   "name": "python",
   "nbconvert_exporter": "python",
   "pygments_lexer": "ipython3",
   "version": "3.7.7"
  },
  "orig_nbformat": 2,
  "kernelspec": {
   "name": "python377jvsc74a57bd007cde942e7194320ce7d9612bbe0cae7ea6bf94f0f9c1224dd7cd766dce0757c",
   "display_name": "Python 3.7.7  ('env_playground': venv)",
   "language": "python"
  }
 },
 "nbformat": 4,
 "nbformat_minor": 2,
 "cells": [
  {
   "cell_type": "code",
   "execution_count": 12,
   "metadata": {},
   "outputs": [],
   "source": [
    "# import the necessary packages\n",
    "import os\n",
    "import uuid\n",
    "from PIL import Image\n",
    "import time, sys\n",
    "from IPython.display import clear_output"
   ]
  },
  {
   "cell_type": "code",
   "execution_count": 45,
   "metadata": {},
   "outputs": [],
   "source": [
    "# Simple progressBar to monitor progress :D\n",
    "# Credits: https://www.mikulskibartosz.name/how-to-display-a-progress-bar-in-jupyter-notebook/\n",
    "\n",
    "def updateProgressBar(progress, bar_length = 50):\n",
    "    if isinstance(progress, int):\n",
    "        progress = float(progress)\n",
    "    if not isinstance(progress, float):\n",
    "        progress = 0\n",
    "    if progress < 0:\n",
    "        progress = 0\n",
    "    if progress >= 1:\n",
    "        progress = 1\n",
    "\n",
    "    block = int(round(bar_length * progress))\n",
    "\n",
    "    # Clear current cell output \n",
    "    clear_output(wait = True)\n",
    "    # Print progress!\n",
    "    print(\"Progress: [{0}] {1:.1f}%\".format( \"#\" * block + \"-\" * (bar_length - block), progress * 100))"
   ]
  },
  {
   "cell_type": "code",
   "execution_count": 54,
   "metadata": {},
   "outputs": [],
   "source": [
    "# Set dataset path location\n",
    "BASE_PATH = os.path.join(os.getcwd(), '..', 'dataset')\n",
    "DATASET_FOLDER = 'ayu-wp'\n",
    "\n",
    "# Set appropiate target image size\n",
    "MAX_SIZE = 640"
   ]
  },
  {
   "cell_type": "code",
   "execution_count": 62,
   "metadata": {},
   "outputs": [
    {
     "output_type": "stream",
     "name": "stdout",
     "text": [
      "Progress: [##################################################] 100.0%\n"
     ]
    }
   ],
   "source": [
    "# Resize Image according to given files structure:\n",
    "# PathToDir/ \n",
    "#     Label_A/ \n",
    "#         PathToImg_1.jpg\n",
    "#         PathToImg_2.jpg\n",
    "#         PathToImg_n.jpg\n",
    "#         ....\n",
    "#     Label_B/\n",
    "#         PathToImg_1.jpg\n",
    "#         PathToImg_2.jpg\n",
    "#         PathToImg_n.jpg\n",
    "#         ....\n",
    "#     Label_n/\n",
    "#         ....\n",
    "\n",
    "# Generate Input and Output Location\n",
    "IN_PATH = os.path.join(BASE_PATH, DATASET_FOLDER)\n",
    "OUT_PATH = os.path.join(BASE_PATH, '{}-{}'.format(DATASET_FOLDER, str(MAX_SIZE)))\n",
    "# Check if output folder doesn't exist, create new one\n",
    "if os.path.exists(OUT_PATH) is False:\n",
    "    os.mkdir(OUT_PATH)\n",
    "\n",
    "# Open and Check input folder files number\n",
    "labels = os.listdir(IN_PATH)\n",
    "num_files = 0\n",
    "cnt = 0\n",
    "\n",
    "for label in labels:\n",
    "    files = os.listdir(os.path.join(IN_PATH, label))\n",
    "    # Calculate num files for progress\n",
    "    num_files += len(files)\n",
    "    # Check output label folder exists\n",
    "    if os.path.exists(os.path.join(OUT_PATH, label)) is False:\n",
    "        os.mkdir(os.path.join(OUT_PATH, label))\n",
    "\n",
    "# Enumerate every label in IN_PATH\n",
    "for label in labels:\n",
    "    files = os.listdir(os.path.join(IN_PATH, label))\n",
    "    # Enumerate every file in label folder\n",
    "    for file in files:\n",
    "        fName, fExt = os.path.splitext(file)\n",
    "        if fExt is not '':\n",
    "            # Generate spesicic file id, make sure everthing unique!\n",
    "            fId = str(uuid.uuid4())[:14]\n",
    "            # Load Image\n",
    "            image = Image.open(os.path.join(IN_PATH, label, str(file))).convert('RGB')\n",
    "            # Calculate presentage from actual to given size\n",
    "            w, h = image.size\n",
    "            if w > h:\n",
    "                p = MAX_SIZE / w\n",
    "            else:\n",
    "                p = MAX_SIZE / h\n",
    "            # Calculate target resized size that maintain original image ratio\n",
    "            tw = int(w * p)\n",
    "            th = int(h * p)\n",
    "            # Resizing Image\n",
    "            image = image.resize((tw, th))\n",
    "            # Save Resized image\n",
    "            image.save(os.path.join(OUT_PATH, label, '{}{}{}'.format(fId, idx, fExt)), 'JPEG')\n",
    "            # Update Progress Bar\n",
    "            cnt += 1\n",
    "            updateProgressBar(cnt / num_files)\n",
    "\n",
    "updateProgressBar(1)"
   ]
  },
  {
   "cell_type": "code",
   "execution_count": null,
   "metadata": {},
   "outputs": [],
   "source": []
  }
 ]
}