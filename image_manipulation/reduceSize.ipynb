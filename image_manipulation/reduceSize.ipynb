{
 "metadata": {
  "language_info": {
   "codemirror_mode": {
    "name": "ipython",
    "version": 3
   },
   "file_extension": ".py",
   "mimetype": "text/x-python",
   "name": "python",
   "nbconvert_exporter": "python",
   "pygments_lexer": "ipython3",
   "version": "3.7.7"
  },
  "orig_nbformat": 2,
  "kernelspec": {
   "name": "pythonjvsc74a57bd007cde942e7194320ce7d9612bbe0cae7ea6bf94f0f9c1224dd7cd766dce0757c",
   "display_name": "Python 3.7.7  ('env_playground': venv)"
  },
  "metadata": {
   "interpreter": {
    "hash": "07cde942e7194320ce7d9612bbe0cae7ea6bf94f0f9c1224dd7cd766dce0757c"
   }
  }
 },
 "nbformat": 4,
 "nbformat_minor": 2,
 "cells": [
  {
   "cell_type": "code",
   "execution_count": 1,
   "metadata": {},
   "outputs": [],
   "source": [
    "# import the necessary packages\n",
    "import os\n",
    "import uuid\n",
    "from PIL import Image\n",
    "from IPython.display import clear_output"
   ]
  },
  {
   "cell_type": "code",
   "execution_count": 2,
   "metadata": {},
   "outputs": [],
   "source": [
    "# Simple progressBar to monitor progress :D\n",
    "# Credits: https://www.mikulskibartosz.name/how-to-display-a-progress-bar-in-jupyter-notebook/\n",
    "\n",
    "def updateProgressBar(progress, bar_length = 50):\n",
    "    if isinstance(progress, int):\n",
    "        progress = float(progress)\n",
    "    if not isinstance(progress, float):\n",
    "        progress = 0\n",
    "    if progress < 0:\n",
    "        progress = 0\n",
    "    if progress >= 1:\n",
    "        progress = 1\n",
    "\n",
    "    block = int(round(bar_length * progress))\n",
    "\n",
    "    # Clear current cell output \n",
    "    clear_output(wait = True)\n",
    "    # Print progress!\n",
    "    print(\"Progress: [{0}] {1:.1f}%\".format( \"#\" * block + \"-\" * (bar_length - block), progress * 100))"
   ]
  },
  {
   "cell_type": "code",
   "execution_count": 4,
   "metadata": {},
   "outputs": [],
   "source": [
    "# Set dataset path location\n",
    "BASE_PATH = os.path.join(os.getcwd(), '..', 'dataset')\n",
    "DATASET_FOLDER = 'bisindo-vid'\n",
    "\n",
    "# Set appropiate target image size\n",
    "MAX_SIZE = 640"
   ]
  },
  {
   "cell_type": "code",
   "execution_count": 6,
   "metadata": {},
   "outputs": [
    {
     "output_type": "error",
     "ename": "NameError",
     "evalue": "name 'idx' is not defined",
     "traceback": [
      "\u001b[1;31m---------------------------------------------------------------------------\u001b[0m",
      "\u001b[1;31mNameError\u001b[0m                                 Traceback (most recent call last)",
      "\u001b[1;32m<ipython-input-6-6692acc8c292>\u001b[0m in \u001b[0;36m<module>\u001b[1;34m\u001b[0m\n\u001b[0;32m     57\u001b[0m             \u001b[0mimage\u001b[0m \u001b[1;33m=\u001b[0m \u001b[0mimage\u001b[0m\u001b[1;33m.\u001b[0m\u001b[0mresize\u001b[0m\u001b[1;33m(\u001b[0m\u001b[1;33m(\u001b[0m\u001b[0mtw\u001b[0m\u001b[1;33m,\u001b[0m \u001b[0mth\u001b[0m\u001b[1;33m)\u001b[0m\u001b[1;33m)\u001b[0m\u001b[1;33m\u001b[0m\u001b[1;33m\u001b[0m\u001b[0m\n\u001b[0;32m     58\u001b[0m             \u001b[1;31m# Save Resized image\u001b[0m\u001b[1;33m\u001b[0m\u001b[1;33m\u001b[0m\u001b[1;33m\u001b[0m\u001b[0m\n\u001b[1;32m---> 59\u001b[1;33m             \u001b[0mimage\u001b[0m\u001b[1;33m.\u001b[0m\u001b[0msave\u001b[0m\u001b[1;33m(\u001b[0m\u001b[0mos\u001b[0m\u001b[1;33m.\u001b[0m\u001b[0mpath\u001b[0m\u001b[1;33m.\u001b[0m\u001b[0mjoin\u001b[0m\u001b[1;33m(\u001b[0m\u001b[0mOUT_PATH\u001b[0m\u001b[1;33m,\u001b[0m \u001b[0mlabel\u001b[0m\u001b[1;33m,\u001b[0m \u001b[1;34m'{}{}{}'\u001b[0m\u001b[1;33m.\u001b[0m\u001b[0mformat\u001b[0m\u001b[1;33m(\u001b[0m\u001b[0mfId\u001b[0m\u001b[1;33m,\u001b[0m \u001b[0midx\u001b[0m\u001b[1;33m,\u001b[0m \u001b[0mfExt\u001b[0m\u001b[1;33m)\u001b[0m\u001b[1;33m)\u001b[0m\u001b[1;33m,\u001b[0m \u001b[1;34m'JPEG'\u001b[0m\u001b[1;33m)\u001b[0m\u001b[1;33m\u001b[0m\u001b[1;33m\u001b[0m\u001b[0m\n\u001b[0m\u001b[0;32m     60\u001b[0m             \u001b[1;31m# Update Progress Bar\u001b[0m\u001b[1;33m\u001b[0m\u001b[1;33m\u001b[0m\u001b[1;33m\u001b[0m\u001b[0m\n\u001b[0;32m     61\u001b[0m             \u001b[0mcnt\u001b[0m \u001b[1;33m+=\u001b[0m \u001b[1;36m1\u001b[0m\u001b[1;33m\u001b[0m\u001b[1;33m\u001b[0m\u001b[0m\n",
      "\u001b[1;31mNameError\u001b[0m: name 'idx' is not defined"
     ]
    }
   ],
   "source": [
    "# Resize Image according to given files structure:\n",
    "# PathToDir/ \n",
    "#     Label_A/ \n",
    "#         PathToImg_1.jpg\n",
    "#         PathToImg_2.jpg\n",
    "#         PathToImg_n.jpg\n",
    "#         ....\n",
    "#     Label_B/\n",
    "#         PathToImg_1.jpg\n",
    "#         PathToImg_2.jpg\n",
    "#         PathToImg_n.jpg\n",
    "#         ....\n",
    "#     Label_n/\n",
    "#         ....\n",
    "\n",
    "# Generate Input and Output Location\n",
    "IN_PATH = os.path.join(BASE_PATH, DATASET_FOLDER)\n",
    "OUT_PATH = os.path.join(BASE_PATH, '{}-{}'.format(DATASET_FOLDER, str(MAX_SIZE)))\n",
    "# Check if output folder doesn't exist, create new one\n",
    "if os.path.exists(OUT_PATH) is False:\n",
    "    os.mkdir(OUT_PATH)\n",
    "\n",
    "# Open and Check input folder files number\n",
    "labels = os.listdir(IN_PATH)\n",
    "num_files = 0\n",
    "cnt = 0\n",
    "\n",
    "for label in labels:\n",
    "    files = os.listdir(os.path.join(IN_PATH, label))\n",
    "    # Calculate num files for progress\n",
    "    num_files += len(files)\n",
    "    # Check output label folder exists\n",
    "    if os.path.exists(os.path.join(OUT_PATH, label)) is False:\n",
    "        os.mkdir(os.path.join(OUT_PATH, label))\n",
    "\n",
    "# Enumerate every label in IN_PATH\n",
    "for label in labels:\n",
    "    files = os.listdir(os.path.join(IN_PATH, label))\n",
    "    # Enumerate every file in label folder\n",
    "    for idx, file in enumerate(files):\n",
    "        fName, fExt = os.path.splitext(file)\n",
    "        if fExt is not '':\n",
    "            # Generate spesicic file id, make sure everthing unique!\n",
    "            fId = str(uuid.uuid4())[:14]\n",
    "            # Load Image\n",
    "            image = Image.open(os.path.join(IN_PATH, label, str(file))).convert('RGB')\n",
    "            # Calculate presentage from actual to given size\n",
    "            w, h = image.size\n",
    "            if w > h:\n",
    "                p = MAX_SIZE / w\n",
    "            else:\n",
    "                p = MAX_SIZE / h\n",
    "            # Calculate target resized size that maintain original image ratio\n",
    "            tw = int(w * p)\n",
    "            th = int(h * p)\n",
    "            # Resizing Image\n",
    "            image = image.resize((tw, th))\n",
    "            # Save Resized image\n",
    "            image.save(os.path.join(OUT_PATH, label, '{}{}{}'.format(fId, idx, fExt)), 'JPEG')\n",
    "            # Update Progress Bar\n",
    "            cnt += 1\n",
    "            updateProgressBar(cnt / num_files)\n",
    "\n",
    "# Progress full/ complete task\n",
    "updateProgressBar(1)"
   ]
  },
  {
   "cell_type": "code",
   "execution_count": null,
   "metadata": {},
   "outputs": [],
   "source": []
  }
 ]
}