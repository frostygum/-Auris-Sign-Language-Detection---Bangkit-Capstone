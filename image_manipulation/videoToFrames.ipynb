{
 "metadata": {
  "language_info": {
   "codemirror_mode": {
    "name": "ipython",
    "version": 3
   },
   "file_extension": ".py",
   "mimetype": "text/x-python",
   "name": "python",
   "nbconvert_exporter": "python",
   "pygments_lexer": "ipython3",
   "version": "3.7.7"
  },
  "orig_nbformat": 2,
  "kernelspec": {
   "name": "pythonjvsc74a57bd007cde942e7194320ce7d9612bbe0cae7ea6bf94f0f9c1224dd7cd766dce0757c",
   "display_name": "Python 3.7.7  ('env_playground': venv)"
  },
  "metadata": {
   "interpreter": {
    "hash": "07cde942e7194320ce7d9612bbe0cae7ea6bf94f0f9c1224dd7cd766dce0757c"
   }
  }
 },
 "nbformat": 4,
 "nbformat_minor": 2,
 "cells": [
  {
   "cell_type": "code",
   "execution_count": 1,
   "metadata": {},
   "outputs": [],
   "source": [
    "import os\n",
    "import cv2\n",
    "from IPython.display import clear_output"
   ]
  },
  {
   "cell_type": "code",
   "execution_count": 6,
   "metadata": {},
   "outputs": [],
   "source": [
    "# Set dataset path location\n",
    "BASE_PATH = os.path.join(os.getcwd(), '..', 'dataset', 'video')\n",
    "VIDEO_NAME ='bisindo-vc-3.mp4'"
   ]
  },
  {
   "cell_type": "code",
   "execution_count": 4,
   "metadata": {},
   "outputs": [],
   "source": [
    "# Simple progressBar to monitor progress :D\n",
    "# Credits: https://www.mikulskibartosz.name/how-to-display-a-progress-bar-in-jupyter-notebook/\n",
    "\n",
    "def updateProgressBar(progress, bar_length = 50):\n",
    "    if isinstance(progress, int):\n",
    "        progress = float(progress)\n",
    "    if not isinstance(progress, float):\n",
    "        progress = 0\n",
    "    if progress < 0:\n",
    "        progress = 0\n",
    "    if progress >= 1:\n",
    "        progress = 1\n",
    "\n",
    "    block = int(round(bar_length * progress))\n",
    "\n",
    "    # Clear current cell output \n",
    "    clear_output(wait = True)\n",
    "    # Print progress!\n",
    "    print(\"Progress: [{0}] {1:.1f}%\".format( \"#\" * block + \"-\" * (bar_length - block), progress * 100))"
   ]
  },
  {
   "cell_type": "code",
   "execution_count": 7,
   "metadata": {},
   "outputs": [
    {
     "output_type": "stream",
     "name": "stdout",
     "text": [
      "Progress: [##################################################] 100.0%\n"
     ]
    }
   ],
   "source": [
    "# Generate Input and Output Location\n",
    "IN_PATH = os.path.join(BASE_PATH, VIDEO_NAME)\n",
    "OUT_PATH = os.path.join(BASE_PATH, os.path.splitext(IN_PATH)[0])\n",
    "# Check if output folder doesn't exist, create new one\n",
    "if os.path.exists(OUT_PATH) is False:\n",
    "    os.mkdir(OUT_PATH)\n",
    "\n",
    "# Open Video\n",
    "vidCap = cv2.VideoCapture(IN_PATH)\n",
    "# Get Video Length\n",
    "vidLength = int(vidCap.get(cv2.CAP_PROP_FRAME_COUNT))\n",
    "cnt = 0\n",
    "# If video can be openned, extract frames!\n",
    "while vidCap.isOpened():\n",
    "    # Extract frame\n",
    "    success, image = vidCap.read()\n",
    "    if success == False:\n",
    "        break\n",
    "    # Saving Image as JPG\n",
    "    cv2.imwrite(os.path.join(OUT_PATH, '{}{}{}'.format('extFrame-', cnt, '.jpg')), image)\n",
    "    # Increment frameCount\n",
    "    cnt += 1\n",
    "    updateProgressBar(cnt / vidLength)\n",
    "\n",
    "# Progress Done\n",
    "updateProgressBar(1)\n",
    "\n",
    "# Destroy cv2 instances\n",
    "vidCap.release()\n",
    "cv2.destroyAllWindows()"
   ]
  },
  {
   "cell_type": "code",
   "execution_count": null,
   "metadata": {},
   "outputs": [],
   "source": []
  }
 ]
}